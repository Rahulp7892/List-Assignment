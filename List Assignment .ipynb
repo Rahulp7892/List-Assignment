{
 "cells": [
  {
   "cell_type": "raw",
   "id": "5c654dd4-577c-4187-b56a-0e77d0b33764",
   "metadata": {},
   "source": [
    "Q1. Create an empty list"
   ]
  },
  {
   "cell_type": "raw",
   "id": "03c5c5be-727b-4c91-bb83-460492f8ad18",
   "metadata": {},
   "source": [
    "Ans"
   ]
  },
  {
   "cell_type": "code",
   "execution_count": 2,
   "id": "609f5ffe-02d1-4a4c-aa15-6f2068b30425",
   "metadata": {},
   "outputs": [],
   "source": [
    "l = []"
   ]
  },
  {
   "cell_type": "code",
   "execution_count": 3,
   "id": "aaa0a3b8-3b3c-45d4-99f7-2db64b9d6262",
   "metadata": {},
   "outputs": [
    {
     "data": {
      "text/plain": [
       "[]"
      ]
     },
     "execution_count": 3,
     "metadata": {},
     "output_type": "execute_result"
    }
   ],
   "source": [
    "l"
   ]
  },
  {
   "cell_type": "raw",
   "id": "4384e109-27ac-49f3-86bd-e37d4eef10ac",
   "metadata": {},
   "source": [
    "Q2. Create a list and add an element to the end of this list."
   ]
  },
  {
   "cell_type": "raw",
   "id": "7e42e53c-93e8-4f47-9a4d-ed7a360629b3",
   "metadata": {},
   "source": [
    "Ans"
   ]
  },
  {
   "cell_type": "code",
   "execution_count": 4,
   "id": "d930176a-5f80-4210-b4c7-bfd6ca40988f",
   "metadata": {},
   "outputs": [],
   "source": [
    "l = [1,2,3,4]"
   ]
  },
  {
   "cell_type": "code",
   "execution_count": 15,
   "id": "94660d01-7643-45b0-9362-d042fe6a2237",
   "metadata": {},
   "outputs": [],
   "source": [
    "l.append(5)"
   ]
  },
  {
   "cell_type": "code",
   "execution_count": 6,
   "id": "fd46a5c7-66da-4f14-a964-470e77c7974a",
   "metadata": {},
   "outputs": [
    {
     "data": {
      "text/plain": [
       "[1, 2, 3, 4, 5]"
      ]
     },
     "execution_count": 6,
     "metadata": {},
     "output_type": "execute_result"
    }
   ],
   "source": [
    "l"
   ]
  },
  {
   "cell_type": "raw",
   "id": "1b6afb04-687e-4f82-9cd9-2a568e2ea317",
   "metadata": {},
   "source": [
    "Q3. For the above created list print the last element."
   ]
  },
  {
   "cell_type": "raw",
   "id": "08377fbc-030f-492a-880d-45595986f1cb",
   "metadata": {},
   "source": [
    "Ans"
   ]
  },
  {
   "cell_type": "code",
   "execution_count": 7,
   "id": "495b4178-7ae6-46dd-87c8-e11ba0f0a5d8",
   "metadata": {},
   "outputs": [],
   "source": [
    "l = [1,2,3,4,5]"
   ]
  },
  {
   "cell_type": "code",
   "execution_count": 8,
   "id": "2a68fac7-1f32-48fd-baff-f2490d499af3",
   "metadata": {},
   "outputs": [
    {
     "data": {
      "text/plain": [
       "[1, 2, 3, 4, 5]"
      ]
     },
     "execution_count": 8,
     "metadata": {},
     "output_type": "execute_result"
    }
   ],
   "source": [
    "l"
   ]
  },
  {
   "cell_type": "code",
   "execution_count": 9,
   "id": "7535e1c3-6da1-45ae-80e7-47c3fb281955",
   "metadata": {},
   "outputs": [
    {
     "data": {
      "text/plain": [
       "5"
      ]
     },
     "execution_count": 9,
     "metadata": {},
     "output_type": "execute_result"
    }
   ],
   "source": [
    "l[-1]"
   ]
  },
  {
   "cell_type": "raw",
   "id": "ba8b2e28-1fc3-46cd-827a-a1ba3b1575a3",
   "metadata": {},
   "source": [
    "Q4. Reverse the above created list."
   ]
  },
  {
   "cell_type": "raw",
   "id": "4d85577e-042e-434d-b02e-3f8682c5a352",
   "metadata": {},
   "source": [
    "Ans"
   ]
  },
  {
   "cell_type": "code",
   "execution_count": 54,
   "id": "c67e06db-2688-4c4c-b357-62157fe1c561",
   "metadata": {},
   "outputs": [],
   "source": [
    "l = [1,2,3,4,5]"
   ]
  },
  {
   "cell_type": "code",
   "execution_count": 55,
   "id": "75c09bc3-774d-48fa-b447-436018ddc8f0",
   "metadata": {},
   "outputs": [
    {
     "data": {
      "text/plain": [
       "[1, 2, 3, 4, 5]"
      ]
     },
     "execution_count": 55,
     "metadata": {},
     "output_type": "execute_result"
    }
   ],
   "source": [
    "l"
   ]
  },
  {
   "cell_type": "code",
   "execution_count": 56,
   "id": "2ba6d32a-a77f-4084-b338-f5230a459883",
   "metadata": {},
   "outputs": [],
   "source": [
    "l.reverse()"
   ]
  },
  {
   "cell_type": "code",
   "execution_count": 57,
   "id": "1a7f5ce7-0610-49ad-bb83-9beb003a56fd",
   "metadata": {},
   "outputs": [
    {
     "data": {
      "text/plain": [
       "[5, 4, 3, 2, 1]"
      ]
     },
     "execution_count": 57,
     "metadata": {},
     "output_type": "execute_result"
    }
   ],
   "source": [
    "l"
   ]
  },
  {
   "cell_type": "raw",
   "id": "0a5fd49a-89f9-4122-8cd5-31e64d7b6204",
   "metadata": {},
   "source": [
    "Q5. Sort the above created list."
   ]
  },
  {
   "cell_type": "code",
   "execution_count": 58,
   "id": "8fbd25b9-e868-4612-bed2-1f75c2578b4c",
   "metadata": {},
   "outputs": [],
   "source": [
    "l = [1,2,3,4,5]"
   ]
  },
  {
   "cell_type": "code",
   "execution_count": 59,
   "id": "fd71a648-c690-42cc-954e-c925d378f64e",
   "metadata": {},
   "outputs": [
    {
     "data": {
      "text/plain": [
       "[1, 2, 3, 4, 5]"
      ]
     },
     "execution_count": 59,
     "metadata": {},
     "output_type": "execute_result"
    }
   ],
   "source": [
    "l"
   ]
  },
  {
   "cell_type": "code",
   "execution_count": 60,
   "id": "857f7099-847b-45bf-b51a-2c7fdea770f1",
   "metadata": {},
   "outputs": [],
   "source": [
    "l.sort()"
   ]
  },
  {
   "cell_type": "code",
   "execution_count": 61,
   "id": "e8150a5b-809e-4444-b9e3-89ab800424ce",
   "metadata": {},
   "outputs": [
    {
     "data": {
      "text/plain": [
       "[1, 2, 3, 4, 5]"
      ]
     },
     "execution_count": 61,
     "metadata": {},
     "output_type": "execute_result"
    }
   ],
   "source": [
    "l"
   ]
  },
  {
   "cell_type": "raw",
   "id": "f29b1ebe-a855-430b-a6dc-9e96e5cd7fb2",
   "metadata": {},
   "source": [
    "Q6. Create a list of your top three favorite movies, then print the second movie title."
   ]
  },
  {
   "cell_type": "raw",
   "id": "6f316357-b2af-43e0-b473-3322fdc0c8c7",
   "metadata": {},
   "source": [
    "Ans"
   ]
  },
  {
   "cell_type": "code",
   "execution_count": 64,
   "id": "daf59a8c-f5a3-40d8-a062-82e0bd239f32",
   "metadata": {},
   "outputs": [],
   "source": [
    "l = [\"Tarzen\", \"Mahabharat\", \"3idiots\"]"
   ]
  },
  {
   "cell_type": "code",
   "execution_count": 65,
   "id": "206b11d6-116e-4370-a7ac-64c81664bd32",
   "metadata": {},
   "outputs": [
    {
     "data": {
      "text/plain": [
       "['Tarzen', 'Mahabharat', '3idiots']"
      ]
     },
     "execution_count": 65,
     "metadata": {},
     "output_type": "execute_result"
    }
   ],
   "source": [
    "l"
   ]
  },
  {
   "cell_type": "code",
   "execution_count": 66,
   "id": "3d7b2219-d21a-49c9-8917-fa695e239d95",
   "metadata": {},
   "outputs": [
    {
     "name": "stdout",
     "output_type": "stream",
     "text": [
      "The second favorite movie is : Mahabharat\n"
     ]
    }
   ],
   "source": [
    "print(\"The second favorite movie is :\", l[1])"
   ]
  },
  {
   "cell_type": "raw",
   "id": "34bc6e03-16a6-42b3-9022-b28f1cb40d44",
   "metadata": {},
   "source": [
    "Q7. Create a list of your favorite animals, than add a new animal to the list and print the updated list."
   ]
  },
  {
   "cell_type": "raw",
   "id": "9b47659f-f6f2-4012-a40d-d2182af8fd31",
   "metadata": {},
   "source": [
    "Ans."
   ]
  },
  {
   "cell_type": "code",
   "execution_count": 72,
   "id": "30dc2087-0acb-4ca9-92cb-29c71a3dbc75",
   "metadata": {},
   "outputs": [],
   "source": [
    "l = [\"cats\", \"dogs\", \"elephants\"]"
   ]
  },
  {
   "cell_type": "code",
   "execution_count": 73,
   "id": "32daef78-c0ea-46a2-8b0c-b693c6bb4621",
   "metadata": {},
   "outputs": [],
   "source": [
    "l2 = \"Horse\""
   ]
  },
  {
   "cell_type": "code",
   "execution_count": 74,
   "id": "717e702c-b130-4d3e-85a8-a2d68ab19e37",
   "metadata": {},
   "outputs": [],
   "source": [
    "l.append(\"Horse\")"
   ]
  },
  {
   "cell_type": "code",
   "execution_count": 75,
   "id": "616f6f33-ceb0-4a5b-9c2a-987d50188208",
   "metadata": {},
   "outputs": [
    {
     "data": {
      "text/plain": [
       "['cats', 'dogs', 'elephants', 'Horse']"
      ]
     },
     "execution_count": 75,
     "metadata": {},
     "output_type": "execute_result"
    }
   ],
   "source": [
    "l"
   ]
  },
  {
   "cell_type": "raw",
   "id": "f2d99eda-83c4-45e4-ae8f-7606b2d325da",
   "metadata": {},
   "source": [
    "Q8. Create a list of your favorite cities, then use the index() method to find the position of a specific city  ,on the list and print it."
   ]
  },
  {
   "cell_type": "raw",
   "id": "e8c0b06d-2dd9-4b66-b93d-41ddd5f47180",
   "metadata": {},
   "source": [
    "Ans."
   ]
  },
  {
   "cell_type": "code",
   "execution_count": 4,
   "id": "6533bdf6-3fc5-4c2c-a15b-e49a3a1b60ca",
   "metadata": {},
   "outputs": [],
   "source": [
    "l = [\"Goa\", \"Kolkatta\", \"Delhi\", \"Benglore\"]"
   ]
  },
  {
   "cell_type": "code",
   "execution_count": 5,
   "id": "7ce08317-aaea-4ef6-98c7-1a0820614235",
   "metadata": {},
   "outputs": [
    {
     "data": {
      "text/plain": [
       "['Goa', 'Kolkatta', 'Delhi', 'Benglore']"
      ]
     },
     "execution_count": 5,
     "metadata": {},
     "output_type": "execute_result"
    }
   ],
   "source": [
    "l"
   ]
  },
  {
   "cell_type": "code",
   "execution_count": 7,
   "id": "a2cedd97-d375-46fc-bc31-23f604c00ab3",
   "metadata": {},
   "outputs": [
    {
     "name": "stdout",
     "output_type": "stream",
     "text": [
      "Delhi is at position: 2\n"
     ]
    }
   ],
   "source": [
    "l.index(\"Delhi\")\n",
    "print(\"Delhi is at position:\", l.index(\"Delhi\"))"
   ]
  },
  {
   "cell_type": "code",
   "execution_count": null,
   "id": "3d81e6e7-1a7e-4ff8-a886-5c1d023bf4ca",
   "metadata": {},
   "outputs": [],
   "source": []
  }
 ],
 "metadata": {
  "kernelspec": {
   "display_name": "Python 3 (ipykernel)",
   "language": "python",
   "name": "python3"
  },
  "language_info": {
   "codemirror_mode": {
    "name": "ipython",
    "version": 3
   },
   "file_extension": ".py",
   "mimetype": "text/x-python",
   "name": "python",
   "nbconvert_exporter": "python",
   "pygments_lexer": "ipython3",
   "version": "3.10.8"
  }
 },
 "nbformat": 4,
 "nbformat_minor": 5
}
